{
 "cells": [
  {
   "cell_type": "markdown",
   "metadata": {},
   "source": [
    "# Read in data"
   ]
  },
  {
   "cell_type": "code",
   "execution_count": 3,
   "metadata": {},
   "outputs": [
    {
     "name": "stdout",
     "output_type": "stream",
     "text": [
      "{'input': 'Can you recommend some activities to do in Paris?', 'output': {'action': ['activities'], 'destination': 'PAR'}}\n",
      "{'input': 'What are the best activities to try in Paris?', 'output': {'action': ['activities'], 'destination': 'PAR'}}\n",
      "{'input': 'What are some fun activities to do in Paris?', 'output': {'action': ['activities'], 'destination': 'PAR'}}\n",
      "{'input': 'What are the best activities to do in Tokyo?', 'output': {'action': ['activities'], 'destination': 'TYO'}}\n",
      "{'input': 'What activities can I do in Paris?', 'output': {'action': ['activities'], 'destination': 'PAR'}}\n"
     ]
    }
   ],
   "source": [
    "import json\n",
    "\n",
    "def read_json(filename, num_objects=3):\n",
    "    with open(filename, 'r') as file:\n",
    "        data = json.load(file)\n",
    "        # Assuming the JSON data is a list of objects\n",
    "        for i in range(min(num_objects, len(data))):\n",
    "            print(data[i])\n",
    "\n",
    "# Call the function with the filename and the number of objects to print\n",
    "read_json('Activities.json', 5)\n"
   ]
  },
  {
   "cell_type": "markdown",
   "metadata": {},
   "source": [
    "# Adding diversity\n",
    "\n",
    "The two cells below have been ran iteratevely substitutting different cities to ensure the integrity of ourr data set and have sparse locations."
   ]
  },
  {
   "cell_type": "code",
   "execution_count": 13,
   "metadata": {},
   "outputs": [
    {
     "name": "stdout",
     "output_type": "stream",
     "text": [
      "Counter({'BCN': 9, 'SEL': 8, 'NYC': 8, 'CAI': 7, 'SHA': 6, 'LON': 6, 'SYD': 6, 'MEX': 5, 'BER': 5, 'BKK': 5, 'LAX': 4, 'SIN': 4, 'LIS': 3, 'PRG': 3, 'AMS': 3, 'RIO': 2, 'GRU': 2, 'HKG': 2, 'CPT': 2, 'BUD': 2, 'IST': 2, 'DXB': 1, 'CDG': 1, 'FLR': 1, 'BUE': 1, 'ROM': 1, 'MAD': 1})\n"
     ]
    }
   ],
   "source": [
    "import json\n",
    "from collections import Counter\n",
    "\n",
    "def count_destinations(filename):\n",
    "    with open(filename, 'r') as file:\n",
    "        data = json.load(file)\n",
    "        # Initialize a list to store the destinations\n",
    "        destinations = []\n",
    "        # Assuming the JSON data is a list of such dictionaries\n",
    "        for item in data:\n",
    "            if 'output' in item and 'destination' in item['output']:\n",
    "                destinations.append(item['output']['destination'])\n",
    "        # Count each unique destination\n",
    "        destination_counts = Counter(destinations)\n",
    "        return destination_counts\n",
    "\n",
    "# Example usage:\n",
    "destination_counts = count_destinations('Modified_Modified_Activities.json')\n",
    "print(destination_counts)\n"
   ]
  },
  {
   "cell_type": "code",
   "execution_count": 12,
   "metadata": {},
   "outputs": [],
   "source": [
    "import json\n",
    "import random\n",
    "\n",
    "def replace_destination(filename):\n",
    "    # Mapping of city codes to city names\n",
    "    city_codes_to_names = {\n",
    "        'NYC': 'New York',\n",
    "        'PAR': 'Paris',\n",
    "        'BCN': 'Barcelona',\n",
    "        'SYD': 'Sydney',\n",
    "        'LON': 'London',\n",
    "        'LAX': 'Los Angeles',\n",
    "        'FLR': 'Florence',\n",
    "        'BER': 'Berlin',\n",
    "        'MOW': 'Moscow',\n",
    "        'BKK': 'Bangkok',\n",
    "        'IST': 'Istanbul',\n",
    "        'HND': 'Tokyo',  # Note: Usually, we wouldn't replace with the same city, but it's listed for completeness.\n",
    "        'SIN': 'Singapore',\n",
    "        'DXB': 'Dubai',\n",
    "        'HKG': 'Hong Kong',\n",
    "        'MAD': 'Madrid',\n",
    "        'ROM': 'Rome',\n",
    "        'CPT': 'Cape Town',\n",
    "        'GRU': 'São Paulo',\n",
    "        'BOM': 'Mumbai',\n",
    "        'YTO': 'Toronto',\n",
    "        'SEL': 'Seoul',\n",
    "        'SHA': 'Shanghai',\n",
    "        'MEX': 'Mexico City',\n",
    "        'AMS': 'Amsterdam',\n",
    "        'CAI': 'Cairo',\n",
    "        'RIO': 'Rio de Janeiro',\n",
    "        'LIS': 'Lisbon',\n",
    "        'PRG': 'Prague',\n",
    "        'BUD': 'Budapest',\n",
    "        'BUE': 'Buenos Aires'\n",
    "    }\n",
    "    # Exclude 'TYO' from possible new destinations if you want to ensure it's replaced with a different city\n",
    "    city_codes = [code for code in city_codes_to_names if code != 'PAR']\n",
    "\n",
    "    # Read the JSON file\n",
    "    with open(filename, 'r') as file:\n",
    "        data = json.load(file)\n",
    "    \n",
    "    # Iterate through each item and replace 'TYO' with a new random city code and name for each item\n",
    "    for item in data:\n",
    "        if item['output']['destination'] == 'PAR':\n",
    "            new_city_code = random.choice(city_codes)  # Randomly choose a new city code for each 'TYO'\n",
    "            item['output']['destination'] = new_city_code\n",
    "            new_city_name = city_codes_to_names[new_city_code]\n",
    "            item['input'] = item['input'].replace('Paris', new_city_name).replace('paris', new_city_name).replace('PAR', new_city_name)\n",
    "\n",
    "    # Save the modified data back to the file or to a new file\n",
    "    with open('Modified_' + filename, 'w') as file:\n",
    "        json.dump(data, file, indent=4)\n",
    "\n",
    "# Example usage:\n",
    "replace_destination('Modified_Activities.json')"
   ]
  }
 ],
 "metadata": {
  "kernelspec": {
   "display_name": "nlp_final",
   "language": "python",
   "name": "python3"
  },
  "language_info": {
   "codemirror_mode": {
    "name": "ipython",
    "version": 3
   },
   "file_extension": ".py",
   "mimetype": "text/x-python",
   "name": "python",
   "nbconvert_exporter": "python",
   "pygments_lexer": "ipython3",
   "version": "3.11.10"
  }
 },
 "nbformat": 4,
 "nbformat_minor": 2
}
