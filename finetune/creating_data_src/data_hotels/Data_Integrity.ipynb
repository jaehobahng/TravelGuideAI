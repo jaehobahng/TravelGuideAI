{
 "cells": [
  {
   "cell_type": "markdown",
   "metadata": {},
   "source": [
    "# Read in data"
   ]
  },
  {
   "cell_type": "code",
   "execution_count": 1,
   "metadata": {},
   "outputs": [
    {
     "name": "stdout",
     "output_type": "stream",
     "text": [
      "{'input': 'Can you find me some hotels in Paris with a swimming pool and WiFi?', 'output': {'action': ['search_hotels'], 'action_input': {'cityCode': 'PAR', 'amenities': ['SWIMMING_POOL', 'WIFI']}}}\n",
      "{'input': 'Can you find me hotels in Paris with a swimming pool and a gym?', 'output': {'action': ['search_hotels'], 'action_input': {'cityCode': 'PAR', 'amenities': ['SWIMMING_POOL', 'FITNESS_CENTER']}}}\n",
      "{'input': 'Can you find hotels in Paris with a swimming pool and air conditioning, please?', 'output': {'action': ['search_hotels'], 'action_input': {'cityCode': 'PAR', 'amenities': ['SWIMMING_POOL', 'AIR_CONDITIONING']}}}\n",
      "{'input': 'Can you find me hotels in Paris with a swimming pool and spa?', 'output': {'action': ['search_hotels'], 'action_input': {'cityCode': 'PAR', 'amenities': ['SWIMMING_POOL', 'SPA']}}}\n",
      "{'input': 'Can you find me 4-star hotels in Paris with a swimming pool and free WiFi?', 'output': {'action': ['search_hotels'], 'action_input': {'cityCode': 'PAR', 'ratings': 4, 'amenities': ['SWIMMING_POOL', 'WIFI']}}}\n"
     ]
    }
   ],
   "source": [
    "import json\n",
    "\n",
    "def read_json(filename, num_objects=3):\n",
    "    with open(filename, 'r') as file:\n",
    "        data = json.load(file)\n",
    "        # Assuming the JSON data is a list of objects\n",
    "        for i in range(min(num_objects, len(data))):\n",
    "            print(data[i])\n",
    "\n",
    "# Call the function with the filename and the number of objects to print\n",
    "read_json('Hotel.json', 5)\n"
   ]
  },
  {
   "cell_type": "markdown",
   "metadata": {},
   "source": [
    "# Adding diversity\n",
    "\n",
    "The two cells below have been ran iteratevely substitutting different cities to ensure the integrity of ourr data set and have sparse locations."
   ]
  },
  {
   "cell_type": "code",
   "execution_count": 19,
   "metadata": {},
   "outputs": [
    {
     "name": "stdout",
     "output_type": "stream",
     "text": [
      "Counter({'GRU': 6, 'SCL': 5, 'HCM': 4, 'KIE': 3, 'SEL': 3, 'TYO': 3, 'DEL': 3, 'HND': 3, 'RIO': 2, 'ROM': 2, 'BOG': 2, 'HAV': 2, 'BER': 2, 'BRU': 2, 'NYC': 2, 'VEN': 2, 'KUL': 2, 'AMS': 2, 'LIM': 2, 'MIA': 2, 'MAN': 2, 'MAD': 2, 'BOM': 2, 'JNB': 2, 'WLG': 2, 'CBR': 2, 'KOL': 2, 'TPE': 2, 'MEX': 1, 'KHI': 1, 'WAR': 1, 'HAN': 1, 'BKK': 1, 'GLA': 1, 'ZRH': 1, 'HKG': 1, 'DHA': 1, 'PRG': 1, 'EDI': 1, 'DXB': 1, 'CAI': 1, 'NBO': 1, 'MOW': 1, 'MIL': 1, 'STO': 1, 'LON': 1, 'CHI': 1, 'ISB': 1, 'CPT': 1, 'YTO': 1, 'DUB': 1, 'IST': 1, 'NAP': 1, 'DAR': 1, 'GDL': 1, 'SHA': 1, 'ADD': 1, 'BUD': 1})\n"
     ]
    }
   ],
   "source": [
    "import json\n",
    "from collections import Counter\n",
    "\n",
    "def count_destinations(filename):\n",
    "    with open(filename, 'r') as file:\n",
    "        data = json.load(file)\n",
    "        # Initialize a list to store the destinations or origins\n",
    "        destinations = []\n",
    "        # Assuming the JSON data is a list of such dictionaries\n",
    "        for item in data:\n",
    "            # Ensure the nested keys exist before accessing them\n",
    "            if 'output' in item and 'action_input' in item['output'] and 'cityCode' in item['output']['action_input']:\n",
    "                destinations.append(item['output']['action_input']['cityCode'])\n",
    "        # Count each unique destination\n",
    "        destination_counts = Counter(destinations)\n",
    "        return destination_counts\n",
    "\n",
    "# Example usage:\n",
    "destination_counts = count_destinations('Modified_Modified_Hotel.json')\n",
    "print(destination_counts)\n",
    "\n"
   ]
  },
  {
   "cell_type": "code",
   "execution_count": 18,
   "metadata": {},
   "outputs": [],
   "source": [
    "import json\n",
    "import random\n",
    "\n",
    "def replace_destination(filename):\n",
    "    # Mapping of city codes to city names\n",
    "    city_codes_to_names = {\n",
    "        'NYC': 'New York',\n",
    "        'PAR': 'Paris',\n",
    "        'BCN': 'Barcelona',\n",
    "        'SYD': 'Sydney',\n",
    "        'LON': 'London',\n",
    "        'LAX': 'Los Angeles',\n",
    "        'FLR': 'Florence',\n",
    "        'BER': 'Berlin',\n",
    "        'MOW': 'Moscow',\n",
    "        'BKK': 'Bangkok',\n",
    "        'IST': 'Istanbul',\n",
    "        'HND': 'Tokyo',\n",
    "        'SIN': 'Singapore',\n",
    "        'DXB': 'Dubai',\n",
    "        'HKG': 'Hong Kong',\n",
    "        'MAD': 'Madrid',\n",
    "        'ROM': 'Rome',\n",
    "        'CPT': 'Cape Town',\n",
    "        'GRU': 'São Paulo',\n",
    "        'BOM': 'Mumbai',\n",
    "        'YTO': 'Toronto',\n",
    "        'SEL': 'Seoul',\n",
    "        'SHA': 'Shanghai',\n",
    "        'MEX': 'Mexico City',\n",
    "        'AMS': 'Amsterdam',\n",
    "        'CAI': 'Cairo',\n",
    "        'RIO': 'Rio de Janeiro',\n",
    "        'LIS': 'Lisbon',\n",
    "        'PRG': 'Prague',\n",
    "        'BUD': 'Budapest',\n",
    "        'BUE': 'Buenos Aires',\n",
    "        'ATH': 'Athens',\n",
    "        'DUB': 'Dublin',\n",
    "        'OSL': 'Oslo',\n",
    "        'STO': 'Stockholm',\n",
    "        'HEL': 'Helsinki',\n",
    "        'VIE': 'Vienna',\n",
    "        'ZRH': 'Zurich',\n",
    "        'MIL': 'Milan',\n",
    "        'VEN': 'Venice',\n",
    "        'NAP': 'Naples',\n",
    "        'EDI': 'Edinburgh',\n",
    "        'GLA': 'Glasgow',\n",
    "        'MAN': 'Manchester',\n",
    "        'BRU': 'Brussels',\n",
    "        'WAR': 'Warsaw',\n",
    "        'KIE': 'Kyiv',\n",
    "        'TPE': 'Taipei',\n",
    "        'KUL': 'Kuala Lumpur',\n",
    "        'BNE': 'Brisbane',\n",
    "        'PER': 'Perth',\n",
    "        'AKL': 'Auckland',\n",
    "        'WLG': 'Wellington',\n",
    "        'JNB': 'Johannesburg',\n",
    "        'DAR': 'Dar es Salaam',\n",
    "        'ADD': 'Addis Ababa',\n",
    "        'NBO': 'Nairobi',\n",
    "        'LIM': 'Lima',\n",
    "        'BOG': 'Bogotá',\n",
    "        'SCL': 'Santiago',\n",
    "        'HAV': 'Havana',\n",
    "        'GDL': 'Guadalajara',\n",
    "        'MNL': 'Manila',\n",
    "        'HCM': 'Ho Chi Minh City',\n",
    "        'HAN': 'Hanoi',\n",
    "        'RGN': 'Yangon',\n",
    "        'KTM': 'Kathmandu',\n",
    "        'ISB': 'Islamabad',\n",
    "        'KHI': 'Karachi',\n",
    "        'DHA': 'Dhaka',\n",
    "        'JAK': 'Jakarta',\n",
    "        'DEL': 'Delhi',\n",
    "        'CHN': 'Chennai',\n",
    "        'KOL': 'Kolkata',\n",
    "        'BNE': 'Brisbane',\n",
    "        'DAR': 'Darwin',\n",
    "        'ASP': 'Alice Springs',\n",
    "        'CBR': 'Canberra'\n",
    "    }\n",
    "\n",
    "    city_codes = [code for code in city_codes_to_names if code != 'PAR']\n",
    "\n",
    "    # Read the JSON file\n",
    "    with open(filename, 'r') as file:\n",
    "        data = json.load(file)\n",
    "    \n",
    "    # Iterate through each item and replace 'PAR' with a new random city code and name for each item\n",
    "    for item in data:\n",
    "        if item['output']['action_input']['cityCode'] == 'PAR':  # Correct path according to JSON structure\n",
    "            new_city_code = random.choice(city_codes)  # Randomly choose a new city code for each 'PAR'\n",
    "            item['output']['action_input']['cityCode'] = new_city_code\n",
    "            new_city_name = city_codes_to_names[new_city_code]\n",
    "            # Replace 'Paris' with a new city name in the input, accounting for case sensitivity\n",
    "            item['input'] = item['input'].replace('paris', new_city_name).replace('Paris', new_city_name).replace('PAR', new_city_code)\n",
    "\n",
    "    # Save the modified data back to the file or to a new file\n",
    "    with open('Modified_' + filename, 'w') as file:\n",
    "        json.dump(data, file, indent=4)\n",
    "\n",
    "# Example usage:\n",
    "replace_destination('Modified_Hotel.json')"
   ]
  }
 ],
 "metadata": {
  "kernelspec": {
   "display_name": "nlp_final",
   "language": "python",
   "name": "python3"
  },
  "language_info": {
   "codemirror_mode": {
    "name": "ipython",
    "version": 3
   },
   "file_extension": ".py",
   "mimetype": "text/x-python",
   "name": "python",
   "nbconvert_exporter": "python",
   "pygments_lexer": "ipython3",
   "version": "3.11.10"
  }
 },
 "nbformat": 4,
 "nbformat_minor": 2
}
