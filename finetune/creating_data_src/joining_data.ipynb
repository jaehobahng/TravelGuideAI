{
 "cells": [
  {
   "cell_type": "code",
   "execution_count": 1,
   "metadata": {},
   "outputs": [
    {
     "name": "stdout",
     "output_type": "stream",
     "text": [
      "Combined and shuffled data saved to combined_shuffled.json\n"
     ]
    }
   ],
   "source": [
    "import json\n",
    "import random\n",
    "\n",
    "def read_and_combine_json(file_paths):\n",
    "    \"\"\"\n",
    "    Read multiple JSON files, combine their contents, and shuffle the order.\n",
    "    \n",
    "    Args:\n",
    "        file_paths (list): List of file paths to JSON files.\n",
    "    \n",
    "    Returns:\n",
    "        list: A combined and shuffled list of JSON objects.\n",
    "    \"\"\"\n",
    "    combined_data = []\n",
    "\n",
    "    # Read each file and extend the combined_data list\n",
    "    for file_path in file_paths:\n",
    "        with open(file_path, 'r') as f:\n",
    "            data = json.load(f)\n",
    "            if isinstance(data, list):\n",
    "                combined_data.extend(data)\n",
    "            else:\n",
    "                print(f\"Warning: {file_path} does not contain a list. Skipping.\")\n",
    "    \n",
    "    # Shuffle the combined data\n",
    "    random.shuffle(combined_data)\n",
    "    \n",
    "    return combined_data\n",
    "\n",
    "def save_to_json(data, output_file):\n",
    "    \"\"\"\n",
    "    Save the data to a JSON file.\n",
    "    \n",
    "    Args:\n",
    "        data (list): The data to save.\n",
    "        output_file (str): Path to the output JSON file.\n",
    "    \"\"\"\n",
    "    with open(output_file, 'w') as f:\n",
    "        json.dump(data, f, indent=4)\n",
    "\n",
    "def main():\n",
    "    # List of input JSON files\n",
    "    json_files = [\n",
    "        'data_Flights_Hotels_Activities/new.json',\n",
    "        'data_Flights_Hotels/new_1.json',\n",
    "        'data_Flights_Activities/new_2.json',\n",
    "        'data_Hotel_Activities/new_3.json',\n",
    "        'data_Flights/new_4.json',\n",
    "        'data_Hotels/new_5.json',\n",
    "        'data_Activities/new_6.json'\n",
    "    ]\n",
    "    \n",
    "    # Output file\n",
    "    output_file = 'combined_shuffled.json'\n",
    "\n",
    "    # Read, combine, shuffle, and save\n",
    "    combined_data = read_and_combine_json(json_files)\n",
    "    save_to_json(combined_data, output_file)\n",
    "\n",
    "    print(f\"Combined and shuffled data saved to {output_file}\")\n",
    "\n",
    "if __name__ == '__main__':\n",
    "    main()\n"
   ]
  },
  {
   "cell_type": "code",
   "execution_count": 2,
   "metadata": {},
   "outputs": [
    {
     "name": "stdout",
     "output_type": "stream",
     "text": [
      "700\n"
     ]
    }
   ],
   "source": [
    "# read json file and check length\n",
    "import json\n",
    "\n",
    "# read json file and check length\n",
    "with open('combined_shuffled.json') as f:\n",
    "    data = json.load(f)\n",
    "    print(len(data))"
   ]
  }
 ],
 "metadata": {
  "kernelspec": {
   "display_name": "nlp_final",
   "language": "python",
   "name": "python3"
  },
  "language_info": {
   "codemirror_mode": {
    "name": "ipython",
    "version": 3
   },
   "file_extension": ".py",
   "mimetype": "text/x-python",
   "name": "python",
   "nbconvert_exporter": "python",
   "pygments_lexer": "ipython3",
   "version": "3.11.10"
  }
 },
 "nbformat": 4,
 "nbformat_minor": 2
}
