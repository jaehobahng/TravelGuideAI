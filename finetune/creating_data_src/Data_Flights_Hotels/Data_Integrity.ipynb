{
 "cells": [
  {
   "cell_type": "markdown",
   "metadata": {},
   "source": [
    "# Read in data"
   ]
  },
  {
   "cell_type": "code",
   "execution_count": 1,
   "metadata": {},
   "outputs": [
    {
     "name": "stdout",
     "output_type": "stream",
     "text": [
      "{'input': 'Can you find me a flight from Miami to Los Angeles for November 12th? I need it for two adults and one child, non-stop only. Also, I’m looking for a 4-star hotel near the destination with a swimming pool and free WiFi.', 'output': {'action': ['search_flights', 'search_hotels'], 'action_input': {'origin': 'MIA', 'destination': 'LAX', 'departure_date': '2023-11-12', 'adults': 2, 'children': 1, 'infants': '', 'class': '', 'nonStop': True, 'maxPrice': '', 'return_date': '', 'ratings': 4, 'amenities': ['SWIMMING_POOL', 'WIFI'], 'max': 5}}}\n",
      "{'input': \"Can you find me a non-stop flight from Austin (AUS) to Denver (DEN) for next Saturday? I'll also need a hotel with at least a 4-star rating that has a swimming pool and Wi-Fi for the same day. There are 2 adults and 1 child traveling. The flight should be in economy class.\", 'output': {'action': ['search_flights', 'search_hotels'], 'action_input': {'origin': 'AUS', 'destination': 'DEN', 'departure_date': '2023-10-21', 'adults': 2, 'children': 1, 'infants': '', 'class': 'ECONOMY', 'nonStop': True, 'maxPrice': '', 'return_date': '', 'ratings': 4, 'amenities': ['SWIMMING_POOL', 'WIFI'], 'max': 5}}}\n",
      "{'input': 'I need to book a flight from ORD to SFO on 2023-12-15 for 2 adults, non-stop only. Also, could you find me a hotel in San Francisco for the same day near a spa and with a 4-star rating?', 'output': {'action': ['search_flights', 'search_hotels'], 'action_input': {'origin': 'ORD', 'destination': 'SFO', 'departure_date': '2023-12-15', 'adults': 2, 'return_date': '', 'children': '', 'infants': '', 'class': '', 'nonStop': True, 'maxPrice': '', 'ratings': 4, 'amenities': ['SPA'], 'max': 5}}}\n",
      "{'input': 'I need a flight from LAX to JFK on June 15th for 2 adults, and also find me a 4-star hotel near JFK with a swimming pool and WiFi.', 'output': {'action': ['search_flights', 'search_hotels'], 'action_input': {'origin': 'LAX', 'destination': 'JFK', 'departure_date': '2023-06-15', 'adults': 2, 'return_date': '', 'children': '', 'infants': '', 'class': '', 'nonStop': '', 'maxPrice': '', 'ratings': 4, 'amenities': ['SWIMMING_POOL', 'WIFI'], 'max': 5}}}\n",
      "{'input': 'I need a flight from NYC to LAX on 2023-11-15. Non-stop only. Also, looking for a hotel with a pool and free WiFi for that stay. Max price for flights $500.', 'output': {'action': ['search_flights', 'search_hotels'], 'action_input': {'origin': 'NYC', 'destination': 'LAX', 'departure_date': '2023-11-15', 'adults': 1, 'return_date': '', 'children': '', 'infants': '', 'class': '', 'nonStop': True, 'maxPrice': 500, 'ratings': '', 'amenities': ['SWIMMING_POOL', 'WIFI'], 'max': 5}}}\n"
     ]
    }
   ],
   "source": [
    "import json\n",
    "\n",
    "def read_json(filename, num_objects=3):\n",
    "    with open(filename, 'r') as file:\n",
    "        data = json.load(file)\n",
    "        # Assuming the JSON data is a list of objects\n",
    "        for i in range(min(num_objects, len(data))):\n",
    "            print(data[i])\n",
    "\n",
    "# Call the function with the filename and the number of objects to print\n",
    "read_json('Flight_hotel_combined.json', 5)\n"
   ]
  },
  {
   "cell_type": "markdown",
   "metadata": {},
   "source": [
    "# Adding diversity\n",
    "\n",
    "The two cells below have been ran iteratevely substitutting different cities to ensure the integrity of ourr data set and have sparse locations."
   ]
  },
  {
   "cell_type": "code",
   "execution_count": 22,
   "metadata": {},
   "outputs": [
    {
     "name": "stdout",
     "output_type": "stream",
     "text": [
      "Counter({'SFO': 4, 'KIE': 4, 'KHI': 4, 'IST': 3, 'KOL': 3, 'NBO': 3, 'DUB': 3, 'HCM': 3, 'HND': 3, 'BOM': 3, 'MAD': 2, 'DEN': 2, 'HAV': 2, 'FLR': 2, 'BUE': 2, 'ORD': 2, 'OSL': 2, 'MEX': 2, 'SHA': 2, 'MIL': 2, 'SCL': 2, 'BRU': 2, 'CDG': 2, 'SEL': 2, 'PAR': 2, 'WAR': 2, 'TYO': 2, 'CBR': 2, 'VIE': 2, 'BNE': 2, 'JAK': 2, 'LIM': 2, 'PRG': 1, 'CAI': 1, 'DEL': 1, 'NAP': 1, 'EDI': 1, 'LIS': 1, 'VEN': 1, 'DXB': 1, 'HEL': 1, 'CHN': 1, 'BOG': 1, 'ASP': 1, 'WLG': 1, 'MNL': 1, 'MOW': 1, 'BOS': 1, 'AMS': 1, 'BKK': 1, 'STO': 1, 'PER': 1, 'KTM': 1, 'KUL': 1, 'SIN': 1})\n"
     ]
    }
   ],
   "source": [
    "import json\n",
    "from collections import Counter\n",
    "\n",
    "def count_destinations(filename):\n",
    "    with open(filename, 'r') as file:\n",
    "        data = json.load(file)\n",
    "        # Initialize a list to store the destinations or origins\n",
    "        destinations = []\n",
    "        # Assuming the JSON data is a list of such dictionaries\n",
    "        for item in data:\n",
    "            # Ensure the nested keys exist before accessing them\n",
    "            if 'output' in item and 'action_input' in item['output'] and 'destination' in item['output']['action_input']:\n",
    "                destinations.append(item['output']['action_input']['destination'])\n",
    "        # Count each unique destination\n",
    "        destination_counts = Counter(destinations)\n",
    "        return destination_counts\n",
    "\n",
    "# Example usage:\n",
    "destination_counts = count_destinations('Modified_Modified_Modified_Modified_Flight_hotel_combined.json')\n",
    "print(destination_counts)\n",
    "\n"
   ]
  },
  {
   "cell_type": "code",
   "execution_count": 21,
   "metadata": {},
   "outputs": [],
   "source": [
    "import json\n",
    "import random\n",
    "\n",
    "def replace_destination(filename):\n",
    "    # Mapping of city codes to city names\n",
    "    city_codes_to_names = {\n",
    "        'PAR': 'Paris',\n",
    "        'BCN': 'Barcelona',\n",
    "        'SYD': 'Sydney',\n",
    "        'LON': 'London',\n",
    "        'FLR': 'Florence',\n",
    "        'BER': 'Berlin',\n",
    "        'MOW': 'Moscow',\n",
    "        'BKK': 'Bangkok',\n",
    "        'IST': 'Istanbul',\n",
    "        'HND': 'Tokyo',\n",
    "        'SIN': 'Singapore',\n",
    "        'DXB': 'Dubai',\n",
    "        'HKG': 'Hong Kong',\n",
    "        'MAD': 'Madrid',\n",
    "        'ROM': 'Rome',\n",
    "        'CPT': 'Cape Town',\n",
    "        'GRU': 'São Paulo',\n",
    "        'BOM': 'Mumbai',\n",
    "        'YTO': 'Toronto',\n",
    "        'SEL': 'Seoul',\n",
    "        'SHA': 'Shanghai',\n",
    "        'MEX': 'Mexico City',\n",
    "        'AMS': 'Amsterdam',\n",
    "        'CAI': 'Cairo',\n",
    "        'RIO': 'Rio de Janeiro',\n",
    "        'LIS': 'Lisbon',\n",
    "        'PRG': 'Prague',\n",
    "        'BUD': 'Budapest',\n",
    "        'BUE': 'Buenos Aires',\n",
    "        'ATH': 'Athens',\n",
    "        'DUB': 'Dublin',\n",
    "        'OSL': 'Oslo',\n",
    "        'STO': 'Stockholm',\n",
    "        'HEL': 'Helsinki',\n",
    "        'VIE': 'Vienna',\n",
    "        'ZRH': 'Zurich',\n",
    "        'MIL': 'Milan',\n",
    "        'VEN': 'Venice',\n",
    "        'NAP': 'Naples',\n",
    "        'EDI': 'Edinburgh',\n",
    "        'GLA': 'Glasgow',\n",
    "        'MAN': 'Manchester',\n",
    "        'BRU': 'Brussels',\n",
    "        'WAR': 'Warsaw',\n",
    "        'KIE': 'Kyiv',\n",
    "        'TPE': 'Taipei',\n",
    "        'KUL': 'Kuala Lumpur',\n",
    "        'BNE': 'Brisbane',\n",
    "        'PER': 'Perth',\n",
    "        'AKL': 'Auckland',\n",
    "        'WLG': 'Wellington',\n",
    "        'JNB': 'Johannesburg',\n",
    "        'DAR': 'Dar es Salaam',\n",
    "        'ADD': 'Addis Ababa',\n",
    "        'NBO': 'Nairobi',\n",
    "        'LIM': 'Lima',\n",
    "        'BOG': 'Bogotá',\n",
    "        'SCL': 'Santiago',\n",
    "        'HAV': 'Havana',\n",
    "        'GDL': 'Guadalajara',\n",
    "        'MNL': 'Manila',\n",
    "        'HCM': 'Ho Chi Minh City',\n",
    "        'HAN': 'Hanoi',\n",
    "        'RGN': 'Yangon',\n",
    "        'KTM': 'Kathmandu',\n",
    "        'ISB': 'Islamabad',\n",
    "        'KHI': 'Karachi',\n",
    "        'DHA': 'Dhaka',\n",
    "        'JAK': 'Jakarta',\n",
    "        'DEL': 'Delhi',\n",
    "        'CHN': 'Chennai',\n",
    "        'KOL': 'Kolkata',\n",
    "        'BNE': 'Brisbane',\n",
    "        'DAR': 'Darwin',\n",
    "        'ASP': 'Alice Springs',\n",
    "        'CBR': 'Canberra'\n",
    "    }\n",
    "\n",
    "    city_codes = [code for code in city_codes_to_names if code != 'MIA']\n",
    "\n",
    "    # Read the JSON file\n",
    "    with open(filename, 'r') as file:\n",
    "        data = json.load(file)\n",
    "    \n",
    "    # Iterate through each item and replace 'PAR' with a new random city code and name for each item\n",
    "    for item in data:\n",
    "        if item['output']['action_input']['destination'] == 'MIA':  # Correct path according to JSON structure\n",
    "            new_city_code = random.choice(city_codes)  # Randomly choose a new city code for each 'PAR'\n",
    "            item['output']['action_input']['destination'] = new_city_code\n",
    "            new_city_name = city_codes_to_names[new_city_code]\n",
    "            # Replace 'Paris' with a new city name in the input, accounting for case sensitivity\n",
    "            item['input'] = item['input'].replace('Miami', new_city_name).replace('miami', new_city_name).replace('MIA', new_city_code)\n",
    "\n",
    "    # Save the modified data back to the file or to a new file\n",
    "    with open('Modified_' + filename, 'w') as file:\n",
    "        json.dump(data, file, indent=4)\n",
    "\n",
    "# Example usage:\n",
    "replace_destination('Modified_Modified_Modified_Flight_hotel_combined.json')"
   ]
  }
 ],
 "metadata": {
  "kernelspec": {
   "display_name": "nlp_final",
   "language": "python",
   "name": "python3"
  },
  "language_info": {
   "codemirror_mode": {
    "name": "ipython",
    "version": 3
   },
   "file_extension": ".py",
   "mimetype": "text/x-python",
   "name": "python",
   "nbconvert_exporter": "python",
   "pygments_lexer": "ipython3",
   "version": "3.11.10"
  }
 },
 "nbformat": 4,
 "nbformat_minor": 2
}
