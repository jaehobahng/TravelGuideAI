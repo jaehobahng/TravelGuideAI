{
 "cells": [
  {
   "cell_type": "markdown",
   "metadata": {},
   "source": [
    "# Read in data"
   ]
  },
  {
   "cell_type": "code",
   "execution_count": 1,
   "metadata": {},
   "outputs": [
    {
     "name": "stdout",
     "output_type": "stream",
     "text": [
      "{'input': 'I need a flight from london to LAX on 2023-12-15 for 2 adults and 1 child in business class, non-stop only.', 'output': {'action': ['search_flights'], 'action_input': {'origin': 'LON', 'destination': 'LAX', 'departure_date': '2023-12-15', 'adults': 2, 'children': 1, 'infants': 0, 'class': 'BUSINESS', 'nonStop': True, 'maxPrice': '', 'return_date': '', 'max': 5}}}\n",
      "{'input': 'I need a flight from JFK to London on March 15th for 2 adults and 1 child in economy class, non-stop only.', 'output': {'action': ['search_flights'], 'action_input': {'origin': 'JFK', 'destination': 'LON', 'departure_date': '2023-03-15', 'adults': 2, 'return_date': '', 'children': 1, 'infants': 0, 'class': 'ECONOMY', 'nonStop': True, 'maxPrice': '', 'max': 5}}}\n",
      "{'input': 'I need a flight from JFK to Atlanta on 2023-12-15 for 2 adults, economy class, and non-stop if possible.', 'output': {'action': ['search_flights'], 'action_input': {'origin': 'JFK', 'destination': 'ATL', 'departure_date': '2023-12-15', 'adults': 2, 'return_date': '', 'children': '', 'infants': '', 'class': 'ECONOMY', 'nonStop': True, 'maxPrice': '', 'max': 5}}}\n",
      "{'input': 'I need a flight from JFK to LAX on 2023-12-15 for 2 adults and 1 child, in business class, and it must be non-stop.', 'output': {'action': ['search_flights'], 'action_input': {'origin': 'JFK', 'destination': 'LAX', 'departure_date': '2023-12-15', 'adults': 2, 'return_date': '', 'children': 1, 'infants': 0, 'class': 'BUSINESS', 'nonStop': True, 'maxPrice': '', 'max': 5}}}\n",
      "{'input': 'I need a flight from JFK to LAX on 2023-12-15 for 2 adults, 1 child, economy class, and please make it non-stop.', 'output': {'action': ['search_flights'], 'action_input': {'origin': 'JFK', 'destination': 'LAX', 'departure_date': '2023-12-15', 'adults': 2, 'return_date': '', 'children': 1, 'infants': '', 'class': 'ECONOMY', 'nonStop': True, 'maxPrice': '', 'max': 5}}}\n"
     ]
    }
   ],
   "source": [
    "import json\n",
    "\n",
    "def read_json(filename, num_objects=3):\n",
    "    with open(filename, 'r') as file:\n",
    "        data = json.load(file)\n",
    "        # Assuming the JSON data is a list of objects\n",
    "        for i in range(min(num_objects, len(data))):\n",
    "            print(data[i])\n",
    "\n",
    "# Call the function with the filename and the number of objects to print\n",
    "read_json('Good_flight.json', 5)\n"
   ]
  },
  {
   "cell_type": "markdown",
   "metadata": {},
   "source": [
    "# Adding diversity\n",
    "\n",
    "The two cells below have been ran iteratevely substitutting different cities to ensure the integrity of ourr data set and have sparse locations."
   ]
  },
  {
   "cell_type": "code",
   "execution_count": 2,
   "metadata": {},
   "outputs": [
    {
     "name": "stdout",
     "output_type": "stream",
     "text": [
      "Counter({'JFK': 8, 'IST': 6, 'LIM': 5, 'MAD': 5, 'CBR': 4, 'MIL': 4, 'LON': 3, 'MEX': 3, 'HEL': 3, 'DEL': 3, 'ATL': 2, 'JNB': 2, 'KUL': 2, 'RIO': 2, 'HKG': 2, 'BCN': 2, 'VEN': 2, 'CDG': 2, 'FCO': 2, 'PVG': 2, 'JKT': 2, 'KOL': 2, 'ZRH': 2, 'KIE': 2, 'HND': 2, 'MOW': 1, 'SCL': 1, 'LHR': 1, 'CHN': 1, 'SYD': 1, 'HCM': 1, 'HAV': 1, 'ISB': 1, 'FRA': 1, 'JAK': 1, 'OSL': 1, 'DXB': 1, 'GRU': 1, 'FLR': 1, 'ROM': 1, 'NAP': 1, 'MAN': 1, 'BNE': 1, 'GDL': 1, 'BUD': 1, 'DHA': 1, 'ASP': 1, 'BOG': 1, 'RGN': 1, 'SIN': 1, 'WLG': 1})\n"
     ]
    }
   ],
   "source": [
    "import json\n",
    "from collections import Counter\n",
    "\n",
    "def count_destinations(filename):\n",
    "    with open(filename, 'r') as file:\n",
    "        data = json.load(file)\n",
    "        # Initialize a list to store the destinations or origins\n",
    "        destinations = []\n",
    "        # Assuming the JSON data is a list of such dictionaries\n",
    "        for item in data:\n",
    "            # Ensure the nested keys exist before accessing them\n",
    "            if 'output' in item and 'action_input' in item['output'] and 'destination' in item['output']['action_input']:\n",
    "                destinations.append(item['output']['action_input']['destination'])\n",
    "        # Count each unique destination\n",
    "        destination_counts = Counter(destinations)\n",
    "        return destination_counts\n",
    "\n",
    "# Example usage:\n",
    "destination_counts = count_destinations('Good_flight.json')\n",
    "print(destination_counts)\n",
    "\n"
   ]
  },
  {
   "cell_type": "code",
   "execution_count": null,
   "metadata": {},
   "outputs": [],
   "source": [
    "import json\n",
    "import random\n",
    "\n",
    "def replace_destination(filename):\n",
    "    # Mapping of city codes to city names\n",
    "    city_codes_to_names = {\n",
    "        'NYC': 'New York',\n",
    "        'PAR': 'Paris',\n",
    "        'BCN': 'Barcelona',\n",
    "        'SYD': 'Sydney',\n",
    "        'LON': 'London',\n",
    "        'LAX': 'Los Angeles',\n",
    "        'FLR': 'Florence',\n",
    "        'BER': 'Berlin',\n",
    "        'MOW': 'Moscow',\n",
    "        'BKK': 'Bangkok',\n",
    "        'IST': 'Istanbul',\n",
    "        'HND': 'Tokyo',\n",
    "        'SIN': 'Singapore',\n",
    "        'DXB': 'Dubai',\n",
    "        'HKG': 'Hong Kong',\n",
    "        'MAD': 'Madrid',\n",
    "        'ROM': 'Rome',\n",
    "        'CPT': 'Cape Town',\n",
    "        'GRU': 'São Paulo',\n",
    "        'BOM': 'Mumbai',\n",
    "        'YTO': 'Toronto',\n",
    "        'SEL': 'Seoul',\n",
    "        'SHA': 'Shanghai',\n",
    "        'MEX': 'Mexico City',\n",
    "        'AMS': 'Amsterdam',\n",
    "        'CAI': 'Cairo',\n",
    "        'RIO': 'Rio de Janeiro',\n",
    "        'LIS': 'Lisbon',\n",
    "        'PRG': 'Prague',\n",
    "        'BUD': 'Budapest',\n",
    "        'BUE': 'Buenos Aires',\n",
    "        'ATH': 'Athens',\n",
    "        'DUB': 'Dublin',\n",
    "        'OSL': 'Oslo',\n",
    "        'STO': 'Stockholm',\n",
    "        'HEL': 'Helsinki',\n",
    "        'VIE': 'Vienna',\n",
    "        'ZRH': 'Zurich',\n",
    "        'MIL': 'Milan',\n",
    "        'VEN': 'Venice',\n",
    "        'NAP': 'Naples',\n",
    "        'EDI': 'Edinburgh',\n",
    "        'GLA': 'Glasgow',\n",
    "        'MAN': 'Manchester',\n",
    "        'BRU': 'Brussels',\n",
    "        'WAR': 'Warsaw',\n",
    "        'KIE': 'Kyiv',\n",
    "        'TPE': 'Taipei',\n",
    "        'KUL': 'Kuala Lumpur',\n",
    "        'BNE': 'Brisbane',\n",
    "        'PER': 'Perth',\n",
    "        'AKL': 'Auckland',\n",
    "        'WLG': 'Wellington',\n",
    "        'JNB': 'Johannesburg',\n",
    "        'DAR': 'Dar es Salaam',\n",
    "        'ADD': 'Addis Ababa',\n",
    "        'NBO': 'Nairobi',\n",
    "        'LIM': 'Lima',\n",
    "        'BOG': 'Bogotá',\n",
    "        'SCL': 'Santiago',\n",
    "        'HAV': 'Havana',\n",
    "        'GDL': 'Guadalajara',\n",
    "        'MNL': 'Manila',\n",
    "        'HCM': 'Ho Chi Minh City',\n",
    "        'HAN': 'Hanoi',\n",
    "        'RGN': 'Yangon',\n",
    "        'KTM': 'Kathmandu',\n",
    "        'ISB': 'Islamabad',\n",
    "        'KHI': 'Karachi',\n",
    "        'DHA': 'Dhaka',\n",
    "        'JAK': 'Jakarta',\n",
    "        'DEL': 'Delhi',\n",
    "        'CHN': 'Chennai',\n",
    "        'KOL': 'Kolkata',\n",
    "        'BNE': 'Brisbane',\n",
    "        'DAR': 'Darwin',\n",
    "        'ASP': 'Alice Springs',\n",
    "        'CBR': 'Canberra'\n",
    "    }\n",
    "\n",
    "    city_codes = [code for code in city_codes_to_names if code != 'JFK']\n",
    "\n",
    "    # Read the JSON file\n",
    "    with open(filename, 'r') as file:\n",
    "        data = json.load(file)\n",
    "    \n",
    "    # Iterate through each item and replace 'PAR' with a new random city code and name for each item\n",
    "    for item in data:\n",
    "        if item['output']['action_input']['origin'] == 'JFK':  # Correct path according to JSON structure\n",
    "            new_city_code = random.choice(city_codes)  # Randomly choose a new city code for each 'PAR'\n",
    "            item['output']['action_input']['origin'] = new_city_code\n",
    "            new_city_name = city_codes_to_names[new_city_code]\n",
    "            # Replace 'Paris' with a new city name in the input, accounting for case sensitivity\n",
    "            item['input'] = item['input'].replace('New York', new_city_name).replace('new york', new_city_name).replace('JFK', new_city_code)\n",
    "\n",
    "    # Save the modified data back to the file or to a new file\n",
    "    with open('Modified_' + filename, 'w') as file:\n",
    "        json.dump(data, file, indent=4)\n",
    "\n",
    "# Example usage:\n",
    "replace_destination('Good_flight.json')"
   ]
  }
 ],
 "metadata": {
  "kernelspec": {
   "display_name": "nlp_final",
   "language": "python",
   "name": "python3"
  },
  "language_info": {
   "codemirror_mode": {
    "name": "ipython",
    "version": 3
   },
   "file_extension": ".py",
   "mimetype": "text/x-python",
   "name": "python",
   "nbconvert_exporter": "python",
   "pygments_lexer": "ipython3",
   "version": "3.11.10"
  }
 },
 "nbformat": 4,
 "nbformat_minor": 2
}
