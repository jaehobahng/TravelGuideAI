{
 "cells": [
  {
   "cell_type": "code",
   "execution_count": 1,
   "id": "3e25c9ac-3800-4604-95ee-74377989587e",
   "metadata": {},
   "outputs": [],
   "source": [
    "#!huggingface-cli login"
   ]
  },
  {
   "cell_type": "code",
   "execution_count": 1,
   "id": "23d5ae4a-fd39-411c-8870-5f24a2661fe9",
   "metadata": {},
   "outputs": [
    {
     "name": "stderr",
     "output_type": "stream",
     "text": [
      "c:\\Users\\JaeHoBahng\\anaconda3\\envs\\finetune\\Lib\\site-packages\\tqdm\\auto.py:21: TqdmWarning: IProgress not found. Please update jupyter and ipywidgets. See https://ipywidgets.readthedocs.io/en/stable/user_install.html\n",
      "  from .autonotebook import tqdm as notebook_tqdm\n"
     ]
    }
   ],
   "source": [
    "import pandas as pd\n",
    "from datasets import load_dataset, Dataset, DatasetDict\n",
    "from transformers import (\n",
    "    AutoTokenizer,\n",
    "    LlamaForCausalLM,\n",
    "    Trainer,\n",
    "    TrainingArguments,\n",
    "    DataCollatorForLanguageModeling\n",
    ")\n",
    "from peft import LoraConfig, get_peft_model\n",
    "import torch\n",
    "import numpy as np"
   ]
  },
  {
   "cell_type": "code",
   "execution_count": 2,
   "id": "2b8e3051-f37c-4721-b2e3-b4763b712441",
   "metadata": {},
   "outputs": [
    {
     "name": "stdout",
     "output_type": "stream",
     "text": [
      "                                               input  \\\n",
      "0    What are some fun activities to do in New York?   \n",
      "1  Can you find 4-star hotels with a swimming poo...   \n",
      "2  I need to plan a trip from Toronto (YYZ) to Li...   \n",
      "3     What are some fun things to do in Mexico City?   \n",
      "4  I need a flight from AER to BKK on 2023-11-15 ...   \n",
      "\n",
      "                                              output  \n",
      "0   {'action': ['activities'], 'destination': 'NYC'}  \n",
      "1  {'action': ['search_hotels'], 'action_input': ...  \n",
      "2  {'action': ['search_flights', 'search_hotels',...  \n",
      "3   {'action': ['activities'], 'destination': 'MEX'}  \n",
      "4  {'action': ['search_flights', 'activities'], '...  \n",
      "input     object\n",
      "output    object\n",
      "dtype: object\n"
     ]
    }
   ],
   "source": [
    "import pandas as pd\n",
    "\n",
    "# Load the dataset\n",
    "data = pd.read_json('../creating_data_src/combined_shuffled.json')\n",
    "\n",
    "# Display the first few rows\n",
    "print(data.head())\n",
    "\n",
    "# Check data types of each column\n",
    "print(data.dtypes)"
   ]
  },
  {
   "cell_type": "code",
   "execution_count": 3,
   "id": "b94bb1d6-9c51-41e7-914c-07b6c93e1cb8",
   "metadata": {},
   "outputs": [
    {
     "name": "stdout",
     "output_type": "stream",
     "text": [
      "                                               input  \\\n",
      "0    What are some fun activities to do in New York?   \n",
      "1  Can you find 4-star hotels with a swimming poo...   \n",
      "2  I need to plan a trip from Toronto (YYZ) to Li...   \n",
      "3     What are some fun things to do in Mexico City?   \n",
      "4  I need a flight from AER to BKK on 2023-11-15 ...   \n",
      "\n",
      "                                              output  \n",
      "0   {\"action\": [\"activities\"], \"destination\": \"NYC\"}  \n",
      "1  {\"action\": [\"search_hotels\"], \"action_input\": ...  \n",
      "2  {\"action\": [\"search_flights\", \"search_hotels\",...  \n",
      "3   {\"action\": [\"activities\"], \"destination\": \"MEX\"}  \n",
      "4  {\"action\": [\"search_flights\", \"activities\"], \"...  \n",
      "input     object\n",
      "output    object\n",
      "dtype: object\n"
     ]
    }
   ],
   "source": [
    "import json\n",
    "\n",
    "# Ensure 'output' is of type string by converting dictionaries to JSON strings\n",
    "data['output'] = data['output'].apply(json.dumps)\n",
    "\n",
    "# Verify the conversion\n",
    "print(data.head())\n",
    "print(data.dtypes)"
   ]
  },
  {
   "cell_type": "code",
   "execution_count": 4,
   "id": "c490e2ad-c8e7-4149-ae6c-4853325d8d6d",
   "metadata": {},
   "outputs": [],
   "source": [
    "from datasets import Dataset, DatasetDict, Features, Value\n",
    "\n",
    "# Select the first 700 entries (adjust as needed)\n",
    "dataset_pandas = data.iloc[:10]\n",
    "\n",
    "dataset_hf = Dataset.from_pandas(dataset_pandas)"
   ]
  },
  {
   "cell_type": "code",
   "execution_count": 5,
   "id": "8377d832-5769-4c19-b0c6-2f1bbf41b1d9",
   "metadata": {},
   "outputs": [
    {
     "name": "stderr",
     "output_type": "stream",
     "text": [
      "Map: 100%|██████████| 8/8 [00:00<00:00, 571.42 examples/s]\n",
      "Map: 100%|██████████| 2/2 [00:00<00:00, 399.99 examples/s]\n"
     ]
    },
    {
     "name": "stdout",
     "output_type": "stream",
     "text": [
      "trainable params: 1,703,936 || all params: 1,237,518,336 || trainable%: 0.1377\n"
     ]
    }
   ],
   "source": [
    "# Perform train-test split\n",
    "split_dataset = dataset_hf.train_test_split(test_size=0.2)\n",
    "\n",
    "dataset = DatasetDict({\n",
    "    'train': split_dataset['train'],\n",
    "    'validation': split_dataset['test']\n",
    "})\n",
    "\n",
    "# 2. Initialize the Tokenizer\n",
    "tokenizer = AutoTokenizer.from_pretrained(\"meta-llama/Llama-3.2-1B\")\n",
    "if tokenizer.pad_token is None:\n",
    "    tokenizer.pad_token = tokenizer.eos_token\n",
    "\n",
    "# 3. Preprocess the Data\n",
    "def preprocess_function(examples):\n",
    "    inputs = examples['input']\n",
    "    outputs = examples['output']\n",
    "    formatted_inputs = [f\"User: {inp}\\nAssistant: {out}\" for inp, out in zip(inputs, outputs)]\n",
    "    return tokenizer(formatted_inputs, truncation=True, padding='max_length', max_length=512)\n",
    "\n",
    "# Apply the preprocessing to the dataset\n",
    "tokenized_datasets = dataset.map(preprocess_function, batched=True)\n",
    "\n",
    "# 4. Load the Pre-trained LLaMA Model\n",
    "model = LlamaForCausalLM.from_pretrained(\n",
    "    'meta-llama/Llama-3.2-1B',\n",
    "    load_in_8bit=False,\n",
    "    torch_dtype=torch.float32,  # Ensure float32 is used\n",
    "    device_map='auto'             # auto\n",
    ")\n",
    "\n",
    "# Verify that all model parameters are in float32\n",
    "for param in model.parameters():\n",
    "    if param.dtype != torch.float32:\n",
    "        print(f\"Parameter {param.name} is not in float32!\")\n",
    "\n",
    "# 5. Configure LoRA\n",
    "lora_config = LoraConfig(\n",
    "    r=8,\n",
    "    lora_alpha=32,\n",
    "    lora_dropout=0.1,\n",
    "    target_modules=[\"q_proj\", \"k_proj\", \"v_proj\", \"o_proj\"],\n",
    "    bias=\"none\",\n",
    "    task_type=\"CAUSAL_LM\"\n",
    ")\n",
    "model = get_peft_model(model, lora_config)\n",
    "model.print_trainable_parameters()"
   ]
  },
  {
   "cell_type": "code",
   "execution_count": null,
   "id": "c7c208bf-2713-4e3d-a99e-2668a5dc49bb",
   "metadata": {},
   "outputs": [
    {
     "name": "stderr",
     "output_type": "stream",
     "text": [
      "c:\\Users\\JaeHoBahng\\anaconda3\\envs\\finetune\\Lib\\site-packages\\transformers\\training_args.py:1575: FutureWarning: `evaluation_strategy` is deprecated and will be removed in version 4.46 of 🤗 Transformers. Use `eval_strategy` instead\n",
      "  warnings.warn(\n",
      "c:\\Users\\JaeHoBahng\\anaconda3\\envs\\finetune\\Lib\\site-packages\\transformers\\training_args.py:1590: FutureWarning: using `no_cuda` is deprecated and will be removed in version 5.0 of 🤗 Transformers. Use `use_cpu` instead\n",
      "  warnings.warn(\n",
      "C:\\Users\\JaeHoBahng\\AppData\\Local\\Temp\\ipykernel_12460\\353506764.py:30: FutureWarning: `tokenizer` is deprecated and will be removed in version 5.0.0 for `Trainer.__init__`. Use `processing_class` instead.\n",
      "  trainer = Trainer(\n"
     ]
    }
   ],
   "source": [
    "training_args = TrainingArguments(\n",
    "    output_dir='../model',          # Directory to save the fine-tuned model\n",
    "    num_train_epochs=5,             # Number of training epochs\n",
    "    per_device_train_batch_size=4,  # Batch size per device during training\n",
    "    per_device_eval_batch_size=8,   # Batch size for evaluation\n",
    "    gradient_accumulation_steps=4,  # Accumulate gradients to simulate larger batch size\n",
    "    learning_rate=2e-4,             # Learning rate\n",
    "    weight_decay=0.01,              # Weight decay for optimizer\n",
    "    evaluation_strategy=\"epoch\",    # Evaluate at the end of each epoch\n",
    "    save_strategy=\"epoch\",          # Save checkpoint at the end of each epoch\n",
    "    logging_dir='./logs',           # Directory for logs\n",
    "    logging_steps=10,               # Log every 10 steps\n",
    "    save_total_limit=2,             # Maximum number of checkpoints to save\n",
    "    fp16=False,                     # Disable mixed precision\n",
    "    no_cuda=True,                   # Disable CUDA/MPS and use CPU\n",
    "    load_best_model_at_end=True,    # Load the best model when finished training\n",
    "    metric_for_best_model=\"loss\",   # Use loss to evaluate the best model\n",
    "    greater_is_better=False,        # Lower loss is better\n",
    "    save_safetensors=False           # **Disable safetensors**\n",
    ")\n",
    "\n",
    "# 7. Initialize the Data Collator\n",
    "# Using Hugging Face's built-in DataCollator to handle padding and other preprocessing\n",
    "data_collator = DataCollatorForLanguageModeling(\n",
    "    tokenizer=tokenizer,\n",
    "    mlm=False,  # Set to False for causal language modeling\n",
    ")\n",
    "\n",
    "# 8. Initialize the Trainer\n",
    "trainer = Trainer(\n",
    "    model=model,\n",
    "    args=training_args,\n",
    "    train_dataset=tokenized_datasets['train'],\n",
    "    eval_dataset=tokenized_datasets['validation'],\n",
    "    tokenizer=tokenizer,\n",
    "    data_collator=data_collator\n",
    ")"
   ]
  },
  {
   "cell_type": "code",
   "execution_count": null,
   "id": "042eddc1-b146-450b-8c2b-581e6151cd52",
   "metadata": {},
   "outputs": [
    {
     "name": "stderr",
     "output_type": "stream",
     "text": [
      "  0%|          | 0/25 [00:00<?, ?it/s]"
     ]
    }
   ],
   "source": [
    "# 9. Start Training\n",
    "trainer_stats = trainer.train()"
   ]
  },
  {
   "cell_type": "code",
   "execution_count": null,
   "id": "c0e44f6f-7a14-4dd7-a1a2-9862190d0ecd",
   "metadata": {},
   "outputs": [],
   "source": [
    "# 10. Save the Fine-Tuned Model and Tokenizer\n",
    "trainer.save_model('./lora_llama_finetuned/model_finetuned')  # Saves both base model and adapters\n",
    "tokenizer.save_pretrained('./lora_llama_finetuned/tokenizer_finetuned')\n",
    "model.save_pretrained('./lora_llama_finetuned/model_finetuned')"
   ]
  },
  {
   "cell_type": "markdown",
   "id": "aaee40d8-e4ef-4bbe-a747-f42183ac5718",
   "metadata": {},
   "source": [
    "# check you can load it"
   ]
  },
  {
   "cell_type": "code",
   "execution_count": null,
   "id": "e389ec5d-f33d-4b2a-9dc2-72ae71c4c45c",
   "metadata": {},
   "outputs": [],
   "source": [
    "from transformers import LlamaForCausalLM, AutoTokenizer\n",
    "from peft import PeftModel\n",
    "import torch"
   ]
  },
  {
   "cell_type": "code",
   "execution_count": null,
   "id": "f4aa179e-6483-465b-bf90-7f641da14c75",
   "metadata": {},
   "outputs": [],
   "source": [
    "# Paths\n",
    "model_path = './lora_llama_finetuned/model_finetuned'      # Path to the LoRA adapters\n",
    "base_model_path = './lora_llama_finetuned/base_model'      # Path to the base model (if saved separately)\n",
    "tokenizer_path = './lora_llama_finetuned/tokenizer_finetuned'\n",
    "\n",
    "# Load the base model\n",
    "base_model = LlamaForCausalLM.from_pretrained(\n",
    "    \"meta-llama/Llama-3.2-1B\",\n",
    "    torch_dtype=torch.float32,\n",
    "    device_map='auto'  # Automatically maps to available devices\n",
    ")\n",
    "\n",
    "# Load the LoRA adapters onto the base model\n",
    "model_loaded = PeftModel.from_pretrained(\n",
    "    base_model,\n",
    "    model_path\n",
    ")\n",
    "\n",
    "# Load the tokenizer\n",
    "tokenizer_loaded = AutoTokenizer.from_pretrained(tokenizer_path)\n",
    "\n",
    "# Ensure the pad token is set (if not already done during training)\n",
    "if tokenizer_loaded.pad_token is None:\n",
    "    tokenizer_loaded.pad_token = tokenizer_loaded.eos_token\n",
    "\n",
    "# Move the model to the appropriate device\n",
    "device = torch.device(\"cuda\" if torch.cuda.is_available() else \"cpu\")\n",
    "model_loaded.to(device)"
   ]
  },
  {
   "cell_type": "code",
   "execution_count": null,
   "id": "f9b8e236-c85e-4897-ac4b-1dbd5c080bf3",
   "metadata": {},
   "outputs": [],
   "source": [
    "model_loaded.eval()"
   ]
  },
  {
   "cell_type": "code",
   "execution_count": null,
   "id": "c1b3749c-3cbb-4b2c-bb86-41c9c7e5a3db",
   "metadata": {},
   "outputs": [],
   "source": [
    "# Define a formatted prompt consistent with training\n",
    "prompt = \"User: I need a flight from london to CBR on 2023-12-15 for 2 adults and 1 child in business class, non-stop only.\\nAssistant:\"\n",
    "\n",
    "# Tokenize the input\n",
    "inputs = tokenizer_loaded(prompt, return_tensors=\"pt\").to(device)\n",
    "\n",
    "# Generate a response\n",
    "with torch.no_grad():\n",
    "    output_tokens = model_loaded.generate(\n",
    "        **inputs,\n",
    "        max_length=250,        # Increase if you need a longer answer\n",
    "        temperature=0.1,       # Adjust temperature for more or less randomness\n",
    "        top_p=0.9,             # Adjust top_p for nucleus sampling\n",
    "        do_sample=True         # Set to False for deterministic output (greedy)\n",
    "    )\n",
    "\n",
    "# Decode the output tokens to text\n",
    "response = tokenizer_loaded.decode(output_tokens[0], skip_special_tokens=True)\n",
    "\n",
    "print(response)"
   ]
  }
 ],
 "metadata": {
  "kernelspec": {
   "display_name": "finetune",
   "language": "python",
   "name": "python3"
  },
  "language_info": {
   "codemirror_mode": {
    "name": "ipython",
    "version": 3
   },
   "file_extension": ".py",
   "mimetype": "text/x-python",
   "name": "python",
   "nbconvert_exporter": "python",
   "pygments_lexer": "ipython3",
   "version": "3.11.11"
  }
 },
 "nbformat": 4,
 "nbformat_minor": 5
}
